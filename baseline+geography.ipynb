{
 "cells": [
  {
   "cell_type": "code",
   "execution_count": 1,
   "id": "547944d6-1d4c-44de-9d18-b49224382a5e",
   "metadata": {
    "tags": []
   },
   "outputs": [],
   "source": [
    "#import 相关库\n",
    "import numpy as np\n",
    "import pandas as pd\n",
    "import lightgbm as lgb\n",
    "from sklearn.model_selection import StratifiedKFold, KFold, GroupKFold\n",
    "from sklearn.metrics import mean_squared_error, mean_absolute_error\n",
    "import matplotlib.pyplot as plt\n",
    "import tqdm\n",
    "import sys\n",
    "import os\n",
    "import gc\n",
    "import argparse\n",
    "import warnings\n",
    "warnings.filterwarnings('ignore')"
   ]
  },
  {
   "cell_type": "code",
   "execution_count": 2,
   "id": "257c0aa6-5991-446f-b695-3242ccc5639d",
   "metadata": {
    "tags": []
   },
   "outputs": [],
   "source": [
    "# 读取数据\n",
    "train_power_forecast_history = pd.read_csv('./训练集/power_forecast_history.csv')\n",
    "train_power = pd.read_csv('./训练集/power.csv')\n",
    "train_stub_info = pd.read_csv('./训练集/stub_info.csv')\n",
    "\n",
    "test_power_forecast_history = pd.read_csv('./测试集/power_forecast_history.csv')\n",
    "test_stub_info = pd.read_csv('./测试集/stub_info.csv')"
   ]
  },
  {
   "cell_type": "code",
   "execution_count": 3,
   "id": "4e2a5774-27e1-477c-93ab-d7d299f88c7c",
   "metadata": {
    "tags": []
   },
   "outputs": [],
   "source": [
    "# 聚合数据\n",
    "train_df = train_power_forecast_history.groupby(['id_encode','ds']).head(1)\n",
    "del train_df['hour']\n",
    "\n",
    "test_df = test_power_forecast_history.groupby(['id_encode','ds']).head(1)\n",
    "del test_df['hour']\n",
    "\n",
    "tmp_df = train_power.groupby(['id_encode','ds'])['power'].sum()\n",
    "tmp_df.columns = ['id_encode','ds','power']\n",
    "\n",
    "# 合并充电量数据\n",
    "train_df = train_df.merge(tmp_df, on=['id_encode','ds'], how='left')\n",
    "\n",
    "### 合并数据\n",
    "train_df = train_df.merge(train_stub_info, on='id_encode', how='left')\n",
    "test_df = test_df.merge(test_stub_info, on='id_encode', how='left')"
   ]
  },
  {
   "cell_type": "code",
   "execution_count": 4,
   "id": "56113578-b50f-491a-a310-db441f8f862b",
   "metadata": {
    "tags": []
   },
   "outputs": [],
   "source": [
    "train_df['flag'] = train_df['flag'].map({'A':0,'B':1})\n",
    "test_df['flag'] = test_df['flag'].map({'A':0,'B':1})"
   ]
  },
  {
   "cell_type": "code",
   "execution_count": 6,
   "id": "1db9ad2f-1e0b-42c4-a153-e1420a6656e1",
   "metadata": {
    "tags": []
   },
   "outputs": [
    {
     "name": "stdout",
     "output_type": "stream",
     "text": [
      "Collecting h3\n",
      "  Downloading h3-3.7.6-cp310-cp310-win_amd64.whl (848 kB)\n",
      "     ---------------------------------------- 0.0/848.6 kB ? eta -:--:--\n",
      "     ---------------------------------------- 10.2/848.6 kB ? eta -:--:--\n",
      "     ---------------------------------------- 10.2/848.6 kB ? eta -:--:--\n",
      "     - ----------------------------------- 30.7/848.6 kB 330.3 kB/s eta 0:00:03\n",
      "     - ----------------------------------- 30.7/848.6 kB 330.3 kB/s eta 0:00:03\n",
      "     - ----------------------------------- 30.7/848.6 kB 330.3 kB/s eta 0:00:03\n",
      "     - ----------------------------------- 41.0/848.6 kB 164.3 kB/s eta 0:00:05\n",
      "     -- ---------------------------------- 61.4/848.6 kB 233.8 kB/s eta 0:00:04\n",
      "     ---- -------------------------------- 92.2/848.6 kB 309.1 kB/s eta 0:00:03\n",
      "     ---- ------------------------------- 112.6/848.6 kB 364.4 kB/s eta 0:00:03\n",
      "     ---- ------------------------------- 112.6/848.6 kB 364.4 kB/s eta 0:00:03\n",
      "     ------ ----------------------------- 143.4/848.6 kB 355.0 kB/s eta 0:00:02\n",
      "     ------- ---------------------------- 174.1/848.6 kB 403.5 kB/s eta 0:00:02\n",
      "     --------- -------------------------- 225.3/848.6 kB 474.7 kB/s eta 0:00:02\n",
      "     ------------ ----------------------- 286.7/848.6 kB 571.2 kB/s eta 0:00:01\n",
      "     ------------ ----------------------- 286.7/848.6 kB 571.2 kB/s eta 0:00:01\n",
      "     ------------- ---------------------- 317.4/848.6 kB 546.6 kB/s eta 0:00:01\n",
      "     ---------------- ------------------- 399.4/848.6 kB 655.1 kB/s eta 0:00:01\n",
      "     -------------------- --------------- 481.3/848.6 kB 736.0 kB/s eta 0:00:01\n",
      "     ----------------------- ------------ 553.0/848.6 kB 807.6 kB/s eta 0:00:01\n",
      "     ----------------------- ------------ 553.0/848.6 kB 807.6 kB/s eta 0:00:01\n",
      "     ------------------------ ----------- 583.7/848.6 kB 764.6 kB/s eta 0:00:01\n",
      "     --------------------------- -------- 645.1/848.6 kB 812.9 kB/s eta 0:00:01\n",
      "     ------------------------------- ---- 737.3/848.6 kB 895.4 kB/s eta 0:00:01\n",
      "     --------------------------------- -- 788.5/848.6 kB 922.1 kB/s eta 0:00:01\n",
      "     --------------------------------- -- 798.7/848.6 kB 917.9 kB/s eta 0:00:01\n",
      "     -----------------------------------  829.4/848.6 kB 888.5 kB/s eta 0:00:01\n",
      "     ------------------------------------ 848.6/848.6 kB 894.8 kB/s eta 0:00:00\n",
      "Installing collected packages: h3\n",
      "Successfully installed h3-3.7.6\n"
     ]
    },
    {
     "name": "stderr",
     "output_type": "stream",
     "text": [
      "WARNING: Ignoring invalid distribution -umpy (d:\\anaconda\\envs\\deeplearing\\lib\\site-packages)\n",
      "WARNING: Ignoring invalid distribution -umpy (d:\\anaconda\\envs\\deeplearing\\lib\\site-packages)\n"
     ]
    }
   ],
   "source": [
    "!pip install h3"
   ]
  },
  {
   "cell_type": "markdown",
   "id": "294a89c8-dbe2-4f7e-a716-bc177e326c05",
   "metadata": {},
   "source": [
    "**地理位置**"
   ]
  },
  {
   "cell_type": "code",
   "execution_count": 7,
   "id": "f7d9f601-50ff-44a7-85fa-295b78decc15",
   "metadata": {
    "tags": []
   },
   "outputs": [],
   "source": [
    "import h3\n",
    "train_df[\"h3\"].head()\n",
    "train_df['latitude'] = train_df['h3'].apply(lambda x: h3.h3_to_geo(x)[0])\n",
    "train_df['longitude'] = train_df['h3'].apply(lambda x: h3.h3_to_geo(x)[1])\n",
    "test_df['latitude'] = test_df['h3'].apply(lambda x: h3.h3_to_geo(x)[0])\n",
    "test_df['longitude'] = test_df['h3'].apply(lambda x: h3.h3_to_geo(x)[1])"
   ]
  },
  {
   "cell_type": "code",
   "execution_count": 8,
   "id": "5ff910f7-e5cd-4eb4-a07b-e93c58525b1a",
   "metadata": {
    "tags": []
   },
   "outputs": [],
   "source": [
    "def get_time_feature(df, col):\n",
    "    \n",
    "    df_copy = df.copy()\n",
    "    prefix = col + \"_\"\n",
    "    df_copy['new_'+col] = df_copy[col].astype(str)\n",
    "    \n",
    "    col = 'new_'+col\n",
    "    df_copy[col] = pd.to_datetime(df_copy[col], format='%Y%m%d')\n",
    "    df_copy[prefix + 'year'] = df_copy[col].dt.year\n",
    "    df_copy[prefix + 'month'] = df_copy[col].dt.month\n",
    "    df_copy[prefix + 'day'] = df_copy[col].dt.day\n",
    "    # df_copy[prefix + 'weekofyear'] = df_copy[col].dt.weekofyear\n",
    "    df_copy[prefix + 'dayofweek'] = df_copy[col].dt.dayofweek\n",
    "    df_copy[prefix + 'is_wknd'] = df_copy[col].dt.dayofweek // 6\n",
    "    df_copy[prefix + 'quarter'] = df_copy[col].dt.quarter\n",
    "    df_copy[prefix + 'is_month_start'] = df_copy[col].dt.is_month_start.astype(int)\n",
    "    df_copy[prefix + 'is_month_end'] = df_copy[col].dt.is_month_end.astype(int)\n",
    "    del df_copy[col]\n",
    "    \n",
    "    return df_copy   \n",
    "    \n",
    "train_df = get_time_feature(train_df, 'ds')\n",
    "test_df = get_time_feature(test_df, 'ds')\n",
    "\n",
    "#cols = [f for f in test_df.columns if f not in ['ds','power','h3']]\n",
    "cols = [f for f in test_df.columns if f not in ['ds','power','h3']]"
   ]
  },
  {
   "cell_type": "code",
   "execution_count": 9,
   "id": "1c28286c-9e7b-439c-ac87-1dfa966b2f6f",
   "metadata": {
    "tags": []
   },
   "outputs": [
    {
     "name": "stdout",
     "output_type": "stream",
     "text": [
      "************************************ 1 ************************************\n",
      "[277.303184695154]\n",
      "************************************ 2 ************************************\n",
      "[277.303184695154, 254.06228014484296]\n",
      "************************************ 3 ************************************\n",
      "[277.303184695154, 254.06228014484296, 275.686616799416]\n",
      "************************************ 4 ************************************\n",
      "[277.303184695154, 254.06228014484296, 275.686616799416, 268.2966893805978]\n",
      "************************************ 5 ************************************\n",
      "[277.303184695154, 254.06228014484296, 275.686616799416, 268.2966893805978, 264.1673236183793]\n",
      "************************************ 6 ************************************\n",
      "[277.303184695154, 254.06228014484296, 275.686616799416, 268.2966893805978, 264.1673236183793, 260.81859498561766]\n",
      "************************************ 7 ************************************\n",
      "[277.303184695154, 254.06228014484296, 275.686616799416, 268.2966893805978, 264.1673236183793, 260.81859498561766, 257.19593261945425]\n",
      "************************************ 8 ************************************\n",
      "[277.303184695154, 254.06228014484296, 275.686616799416, 268.2966893805978, 264.1673236183793, 260.81859498561766, 257.19593261945425, 263.0526991681364]\n"
     ]
    }
   ],
   "source": [
    "# 使用K折交叉验证训练和验证模型\n",
    "def cv_model(clf, train_x, train_y, test_x, seed=2023):\n",
    "    # 定义折数并初始化KFold\n",
    "    folds = 8\n",
    "    kf = KFold(n_splits=folds, shuffle=True, random_state=seed)\n",
    "    \n",
    "    # 初始化oof预测和测试集预测\n",
    "    oof = np.zeros(train_x.shape[0])\n",
    "    test_predict = np.zeros(test_x.shape[0])\n",
    "    cv_scores = []\n",
    "\n",
    "    # KFold交叉验证\n",
    "    for i, (train_index, valid_index) in enumerate(kf.split(train_x, train_y)):\n",
    "        print('************************************ {} ************************************'.format(str(i+1)))\n",
    "        trn_x, trn_y, val_x, val_y = train_x.iloc[train_index], train_y[train_index], train_x.iloc[valid_index], train_y[valid_index]\n",
    "        \n",
    "        # 转换数据为lightgbm数据格式\n",
    "        train_matrix = clf.Dataset(trn_x, label=trn_y)\n",
    "        valid_matrix = clf.Dataset(val_x, label=val_y)\n",
    "\n",
    "        # 定义lightgbm参数\n",
    "        params = {\n",
    "            'boosting_type': 'gbdt',\n",
    "            'objective': 'regression',\n",
    "            'metric': 'rmse',\n",
    "            'min_child_weight': 5,\n",
    "            'num_leaves': 2 ** 8,\n",
    "            'lambda_l2': 10,\n",
    "            'feature_fraction': 0.8,\n",
    "            'bagging_fraction': 0.8,\n",
    "            'bagging_freq': 4,\n",
    "            'learning_rate': 0.01,\n",
    "            'seed': 2023,\n",
    "            'nthread' : 16,\n",
    "            'verbose' : -1,\n",
    "            'device':'gpu'\n",
    "        }\n",
    "\n",
    "        # 训练模型\n",
    "        model = clf.train(params, train_matrix, 3000, valid_sets=[train_matrix, valid_matrix], categorical_feature=[])\n",
    "        \n",
    "        # 获取验证和测试集的预测值\n",
    "        val_pred = model.predict(val_x, num_iteration=model.best_iteration)\n",
    "        test_pred = model.predict(test_x, num_iteration=model.best_iteration)\n",
    "        \n",
    "        oof[valid_index] = val_pred\n",
    "        test_predict += test_pred / kf.n_splits\n",
    "        \n",
    "        # 计算并打印当前折的分数\n",
    "        score = np.sqrt(mean_squared_error(val_pred, val_y))\n",
    "        cv_scores.append(score)\n",
    "        print(cv_scores)\n",
    "        \n",
    "    return oof, test_predict\n",
    "\n",
    "# 调用上面的函数进行模型训练和预测\n",
    "lgb_oof, lgb_test = cv_model(lgb, train_df[cols], train_df['power'], test_df[cols])"
   ]
  },
  {
   "cell_type": "code",
   "execution_count": 10,
   "id": "1d350693-a349-4d16-bf32-2509a4b95058",
   "metadata": {},
   "outputs": [],
   "source": [
    "#输出赛题提交格式的结果\n",
    "test_df['power'] = lgb_test\n",
    "test_df['power'] = test_df['power'].apply(lambda x: 0 if x<0 else x)\n",
    "test_df[['id_encode','ds','power']].to_csv('result3.csv', index=False)"
   ]
  },
  {
   "cell_type": "code",
   "execution_count": null,
   "id": "1ae40f7e-97f9-49d8-ae2e-e5310a0a3992",
   "metadata": {},
   "outputs": [],
   "source": []
  }
 ],
 "metadata": {
  "kernelspec": {
   "display_name": "Python 3 (ipykernel)",
   "language": "python",
   "name": "python3"
  },
  "language_info": {
   "codemirror_mode": {
    "name": "ipython",
    "version": 3
   },
   "file_extension": ".py",
   "mimetype": "text/x-python",
   "name": "python",
   "nbconvert_exporter": "python",
   "pygments_lexer": "ipython3",
   "version": "3.10.12"
  }
 },
 "nbformat": 4,
 "nbformat_minor": 5
}
